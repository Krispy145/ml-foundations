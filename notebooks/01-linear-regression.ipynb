{
 "cells": [
  {
   "cell_type": "markdown",
   "metadata": {},
   "source": [
    "# Linear Regression from Scratch\n",
    "Goal: implement linear regression from scratch with NumPy.\n",
    "Steps: derive gradients, implement training loop, plot loss."
   ]
  },
  {
   "cell_type": "markdown",
   "id": "3563adc7",
   "metadata": {},
   "source": [
    "# Linear Regression (from scratch)\n",
    "Following Andrew Ng ML Course - Week 1"
   ]
  },
  {
   "cell_type": "code",
   "execution_count": null,
   "metadata": {},
   "outputs": [],
   "source": [
    "import numpy as np\n",
    "import matplotlib.pyplot as plt\n",
    "np.random.seed(42)\n",
    "\n",
    "# Generate a synthetic linear dataset\n",
    "X = 2 * np.random.rand(100, 1)     # 100 points between 0 and 2\n",
    "y = 4 + 3 * X + np.random.randn(100, 1)  # y = 4 + 3x + Gaussian noise\n",
    "\n",
    "# Plot the data\n",
    "plt.scatter(X, y, alpha=0.7)\n",
    "plt.xlabel(\"x\")\n",
    "plt.ylabel(\"y\")\n",
    "plt.title(\"Synthetic Linear Dataset\")\n",
    "plt.show()\n",
    "\n"
   ]
  }
 ],
 "metadata": {
  "kernelspec": {
   "display_name": "Python 3",
   "language": "python",
   "name": "python3"
  },
  "language_info": {
   "name": "python",
   "version": "3.10"
  }
 },
 "nbformat": 4,
 "nbformat_minor": 5
}
